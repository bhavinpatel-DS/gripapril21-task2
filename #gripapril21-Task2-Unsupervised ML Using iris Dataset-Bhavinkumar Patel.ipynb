{
 "cells": [
  {
   "cell_type": "markdown",
   "id": "acting-lover",
   "metadata": {},
   "source": [
    "## Name : Bhavinkumar Patel\n",
    "\n",
    "### #gripapril21\n",
    "\n",
    "## Task 2 : Prediction using Unsupervised (Clustering) ML \n",
    "\n",
    "### From the given ‘Iris’ dataset, predict the optimum number of clusters and represent it visually."
   ]
  },
  {
   "cell_type": "markdown",
   "id": "controlling-fundamental",
   "metadata": {},
   "source": [
    "#### From the given ‘Iris’ dataset, predict the optimum number of clusters and represent it visually."
   ]
  },
  {
   "cell_type": "code",
   "execution_count": null,
   "id": "deluxe-recipe",
   "metadata": {},
   "outputs": [],
   "source": []
  },
  {
   "cell_type": "markdown",
   "id": "mighty-martin",
   "metadata": {},
   "source": [
    "### Importing libraries"
   ]
  },
  {
   "cell_type": "code",
   "execution_count": 1,
   "id": "sublime-dylan",
   "metadata": {},
   "outputs": [],
   "source": [
    "import numpy as np\n",
    "import pandas as pd\n",
    "import matplotlib.pyplot as plt\n",
    "from matplotlib import style\n",
    "import seaborn as sns\n",
    "\n",
    "from sklearn.cluster import KMeans\n",
    "%matplotlib inline"
   ]
  },
  {
   "cell_type": "code",
   "execution_count": 2,
   "id": "logical-barrel",
   "metadata": {
    "scrolled": true
   },
   "outputs": [
    {
     "data": {
      "text/html": [
       "<div>\n",
       "<style scoped>\n",
       "    .dataframe tbody tr th:only-of-type {\n",
       "        vertical-align: middle;\n",
       "    }\n",
       "\n",
       "    .dataframe tbody tr th {\n",
       "        vertical-align: top;\n",
       "    }\n",
       "\n",
       "    .dataframe thead th {\n",
       "        text-align: right;\n",
       "    }\n",
       "</style>\n",
       "<table border=\"1\" class=\"dataframe\">\n",
       "  <thead>\n",
       "    <tr style=\"text-align: right;\">\n",
       "      <th></th>\n",
       "      <th>Id</th>\n",
       "      <th>SepalLengthCm</th>\n",
       "      <th>SepalWidthCm</th>\n",
       "      <th>PetalLengthCm</th>\n",
       "      <th>PetalWidthCm</th>\n",
       "      <th>Species</th>\n",
       "    </tr>\n",
       "  </thead>\n",
       "  <tbody>\n",
       "    <tr>\n",
       "      <th>0</th>\n",
       "      <td>1</td>\n",
       "      <td>5.1</td>\n",
       "      <td>3.5</td>\n",
       "      <td>1.4</td>\n",
       "      <td>0.2</td>\n",
       "      <td>Iris-setosa</td>\n",
       "    </tr>\n",
       "    <tr>\n",
       "      <th>1</th>\n",
       "      <td>2</td>\n",
       "      <td>4.9</td>\n",
       "      <td>3.0</td>\n",
       "      <td>1.4</td>\n",
       "      <td>0.2</td>\n",
       "      <td>Iris-setosa</td>\n",
       "    </tr>\n",
       "    <tr>\n",
       "      <th>2</th>\n",
       "      <td>3</td>\n",
       "      <td>4.7</td>\n",
       "      <td>3.2</td>\n",
       "      <td>1.3</td>\n",
       "      <td>0.2</td>\n",
       "      <td>Iris-setosa</td>\n",
       "    </tr>\n",
       "    <tr>\n",
       "      <th>3</th>\n",
       "      <td>4</td>\n",
       "      <td>4.6</td>\n",
       "      <td>3.1</td>\n",
       "      <td>1.5</td>\n",
       "      <td>0.2</td>\n",
       "      <td>Iris-setosa</td>\n",
       "    </tr>\n",
       "    <tr>\n",
       "      <th>4</th>\n",
       "      <td>5</td>\n",
       "      <td>5.0</td>\n",
       "      <td>3.6</td>\n",
       "      <td>1.4</td>\n",
       "      <td>0.2</td>\n",
       "      <td>Iris-setosa</td>\n",
       "    </tr>\n",
       "  </tbody>\n",
       "</table>\n",
       "</div>"
      ],
      "text/plain": [
       "   Id  SepalLengthCm  SepalWidthCm  PetalLengthCm  PetalWidthCm      Species\n",
       "0   1            5.1           3.5            1.4           0.2  Iris-setosa\n",
       "1   2            4.9           3.0            1.4           0.2  Iris-setosa\n",
       "2   3            4.7           3.2            1.3           0.2  Iris-setosa\n",
       "3   4            4.6           3.1            1.5           0.2  Iris-setosa\n",
       "4   5            5.0           3.6            1.4           0.2  Iris-setosa"
      ]
     },
     "execution_count": 2,
     "metadata": {},
     "output_type": "execute_result"
    }
   ],
   "source": [
    "#Importing Iris dataset from local drive\n",
    "data = pd.read_csv(r\"Iris.csv\")\n",
    "data.head()"
   ]
  },
  {
   "cell_type": "code",
   "execution_count": 3,
   "id": "criminal-residence",
   "metadata": {},
   "outputs": [
    {
     "name": "stdout",
     "output_type": "stream",
     "text": [
      "<class 'pandas.core.frame.DataFrame'>\n",
      "RangeIndex: 150 entries, 0 to 149\n",
      "Data columns (total 6 columns):\n",
      " #   Column         Non-Null Count  Dtype  \n",
      "---  ------         --------------  -----  \n",
      " 0   Id             150 non-null    int64  \n",
      " 1   SepalLengthCm  150 non-null    float64\n",
      " 2   SepalWidthCm   150 non-null    float64\n",
      " 3   PetalLengthCm  150 non-null    float64\n",
      " 4   PetalWidthCm   150 non-null    float64\n",
      " 5   Species        150 non-null    object \n",
      "dtypes: float64(4), int64(1), object(1)\n",
      "memory usage: 7.2+ KB\n"
     ]
    }
   ],
   "source": [
    "#Displaying the detailed information of the dataset.\n",
    "data.info()"
   ]
  },
  {
   "cell_type": "markdown",
   "id": "alike-typing",
   "metadata": {},
   "source": [
    "Afetr looking at the above information of Iris Dataset, Se can say that there are no null or missing values has been found."
   ]
  },
  {
   "cell_type": "code",
   "execution_count": 4,
   "id": "sporting-polls",
   "metadata": {},
   "outputs": [
    {
     "data": {
      "text/html": [
       "<div>\n",
       "<style scoped>\n",
       "    .dataframe tbody tr th:only-of-type {\n",
       "        vertical-align: middle;\n",
       "    }\n",
       "\n",
       "    .dataframe tbody tr th {\n",
       "        vertical-align: top;\n",
       "    }\n",
       "\n",
       "    .dataframe thead th {\n",
       "        text-align: right;\n",
       "    }\n",
       "</style>\n",
       "<table border=\"1\" class=\"dataframe\">\n",
       "  <thead>\n",
       "    <tr style=\"text-align: right;\">\n",
       "      <th></th>\n",
       "      <th>Id</th>\n",
       "      <th>SepalLengthCm</th>\n",
       "      <th>SepalWidthCm</th>\n",
       "      <th>PetalLengthCm</th>\n",
       "      <th>PetalWidthCm</th>\n",
       "    </tr>\n",
       "  </thead>\n",
       "  <tbody>\n",
       "    <tr>\n",
       "      <th>count</th>\n",
       "      <td>150.000000</td>\n",
       "      <td>150.000000</td>\n",
       "      <td>150.000000</td>\n",
       "      <td>150.000000</td>\n",
       "      <td>150.000000</td>\n",
       "    </tr>\n",
       "    <tr>\n",
       "      <th>mean</th>\n",
       "      <td>75.500000</td>\n",
       "      <td>5.843333</td>\n",
       "      <td>3.054000</td>\n",
       "      <td>3.758667</td>\n",
       "      <td>1.198667</td>\n",
       "    </tr>\n",
       "    <tr>\n",
       "      <th>std</th>\n",
       "      <td>43.445368</td>\n",
       "      <td>0.828066</td>\n",
       "      <td>0.433594</td>\n",
       "      <td>1.764420</td>\n",
       "      <td>0.763161</td>\n",
       "    </tr>\n",
       "    <tr>\n",
       "      <th>min</th>\n",
       "      <td>1.000000</td>\n",
       "      <td>4.300000</td>\n",
       "      <td>2.000000</td>\n",
       "      <td>1.000000</td>\n",
       "      <td>0.100000</td>\n",
       "    </tr>\n",
       "    <tr>\n",
       "      <th>25%</th>\n",
       "      <td>38.250000</td>\n",
       "      <td>5.100000</td>\n",
       "      <td>2.800000</td>\n",
       "      <td>1.600000</td>\n",
       "      <td>0.300000</td>\n",
       "    </tr>\n",
       "    <tr>\n",
       "      <th>50%</th>\n",
       "      <td>75.500000</td>\n",
       "      <td>5.800000</td>\n",
       "      <td>3.000000</td>\n",
       "      <td>4.350000</td>\n",
       "      <td>1.300000</td>\n",
       "    </tr>\n",
       "    <tr>\n",
       "      <th>75%</th>\n",
       "      <td>112.750000</td>\n",
       "      <td>6.400000</td>\n",
       "      <td>3.300000</td>\n",
       "      <td>5.100000</td>\n",
       "      <td>1.800000</td>\n",
       "    </tr>\n",
       "    <tr>\n",
       "      <th>max</th>\n",
       "      <td>150.000000</td>\n",
       "      <td>7.900000</td>\n",
       "      <td>4.400000</td>\n",
       "      <td>6.900000</td>\n",
       "      <td>2.500000</td>\n",
       "    </tr>\n",
       "  </tbody>\n",
       "</table>\n",
       "</div>"
      ],
      "text/plain": [
       "               Id  SepalLengthCm  SepalWidthCm  PetalLengthCm  PetalWidthCm\n",
       "count  150.000000     150.000000    150.000000     150.000000    150.000000\n",
       "mean    75.500000       5.843333      3.054000       3.758667      1.198667\n",
       "std     43.445368       0.828066      0.433594       1.764420      0.763161\n",
       "min      1.000000       4.300000      2.000000       1.000000      0.100000\n",
       "25%     38.250000       5.100000      2.800000       1.600000      0.300000\n",
       "50%     75.500000       5.800000      3.000000       4.350000      1.300000\n",
       "75%    112.750000       6.400000      3.300000       5.100000      1.800000\n",
       "max    150.000000       7.900000      4.400000       6.900000      2.500000"
      ]
     },
     "execution_count": 4,
     "metadata": {},
     "output_type": "execute_result"
    }
   ],
   "source": [
    "#Displaying the detailed description of dataset.\n",
    "data.describe()"
   ]
  },
  {
   "cell_type": "code",
   "execution_count": 5,
   "id": "whole-court",
   "metadata": {},
   "outputs": [
    {
     "data": {
      "text/plain": [
       "Id               150\n",
       "SepalLengthCm     35\n",
       "SepalWidthCm      23\n",
       "PetalLengthCm     43\n",
       "PetalWidthCm      22\n",
       "Species            3\n",
       "dtype: int64"
      ]
     },
     "execution_count": 5,
     "metadata": {},
     "output_type": "execute_result"
    }
   ],
   "source": [
    "#Displaying the unique values for each features from the dataset\n",
    "data.nunique()"
   ]
  },
  {
   "cell_type": "markdown",
   "id": "interim-membrane",
   "metadata": {},
   "source": [
    "Every feature have their own unique values with them as per the above nunique()"
   ]
  },
  {
   "cell_type": "code",
   "execution_count": 6,
   "id": "immune-speaker",
   "metadata": {},
   "outputs": [
    {
     "data": {
      "text/plain": [
       "Index(['Id', 'SepalLengthCm', 'SepalWidthCm', 'PetalLengthCm', 'PetalWidthCm',\n",
       "       'Species'],\n",
       "      dtype='object')"
      ]
     },
     "execution_count": 6,
     "metadata": {},
     "output_type": "execute_result"
    }
   ],
   "source": [
    "#Displaying the Feature names from dataset\n",
    "data.columns"
   ]
  },
  {
   "cell_type": "code",
   "execution_count": 7,
   "id": "accessory-channel",
   "metadata": {},
   "outputs": [
    {
     "data": {
      "text/plain": [
       "array([3.5, 3. , 3.2, 3.1, 3.6, 3.9, 3.4, 2.9, 3.7, 4. , 4.4, 3.8, 3.3,\n",
       "       4.1, 4.2, 2.3, 2.8, 2.4, 2.7, 2. , 2.2, 2.5, 2.6])"
      ]
     },
     "execution_count": 7,
     "metadata": {},
     "output_type": "execute_result"
    }
   ],
   "source": [
    "#Displaying the unique values from 'SepalWidthCm'\n",
    "data['SepalWidthCm'].unique()"
   ]
  },
  {
   "cell_type": "markdown",
   "id": "fitted-proof",
   "metadata": {},
   "source": [
    "Displays unique values for SepalWidthCm Column"
   ]
  },
  {
   "cell_type": "code",
   "execution_count": 8,
   "id": "animal-exhaust",
   "metadata": {},
   "outputs": [
    {
     "data": {
      "text/plain": [
       "array([0.2, 0.4, 0.3, 0.1, 0.5, 0.6, 1.4, 1.5, 1.3, 1.6, 1. , 1.1, 1.8,\n",
       "       1.2, 1.7, 2.5, 1.9, 2.1, 2.2, 2. , 2.4, 2.3])"
      ]
     },
     "execution_count": 8,
     "metadata": {},
     "output_type": "execute_result"
    }
   ],
   "source": [
    "#Displaying the unique values from 'PetalWidthCm'\n",
    "data['PetalWidthCm'].unique()"
   ]
  },
  {
   "cell_type": "markdown",
   "id": "unusual-geology",
   "metadata": {},
   "source": [
    "Displays unique values for PetalWidthCm Column"
   ]
  },
  {
   "cell_type": "code",
   "execution_count": 9,
   "id": "registered-change",
   "metadata": {},
   "outputs": [
    {
     "data": {
      "image/png": "[encoded data removed]",
      "text/plain": [
       "<Figure size 432x288 with 1 Axes>"
      ]
     },
     "metadata": {
      "needs_background": "light"
     },
     "output_type": "display_data"
    }
   ],
   "source": [
    "#Visualising the SepalWidthCm and PetalWidthCm using Scatter plot.\n",
    "plt.scatter(data['SepalWidthCm'],data['PetalWidthCm'], c='Orange')\n",
    "plt.xlabel('Sepal Width (Cm)')\n",
    "plt.ylabel('Petal Width (Cm)')\n",
    "plt.ylabel('Sepal Width Vs Petal Width')\n",
    "plt.show()"
   ]
  },
  {
   "cell_type": "code",
   "execution_count": 10,
   "id": "worthy-employee",
   "metadata": {},
   "outputs": [
    {
     "data": {
      "text/plain": [
       "array([5.1, 4.9, 4.7, 4.6, 5. , 5.4, 4.4, 4.8, 4.3, 5.8, 5.7, 5.2, 5.5,\n",
       "       4.5, 5.3, 7. , 6.4, 6.9, 6.5, 6.3, 6.6, 5.9, 6. , 6.1, 5.6, 6.7,\n",
       "       6.2, 6.8, 7.1, 7.6, 7.3, 7.2, 7.7, 7.4, 7.9])"
      ]
     },
     "execution_count": 10,
     "metadata": {},
     "output_type": "execute_result"
    }
   ],
   "source": [
    "#Displaying the unique values from 'SepalLengthCm'\n",
    "data['SepalLengthCm'].unique()"
   ]
  },
  {
   "cell_type": "code",
   "execution_count": 11,
   "id": "smooth-aberdeen",
   "metadata": {},
   "outputs": [
    {
     "data": {
      "text/plain": [
       "array([1.4, 1.3, 1.5, 1.7, 1.6, 1.1, 1.2, 1. , 1.9, 4.7, 4.5, 4.9, 4. ,\n",
       "       4.6, 3.3, 3.9, 3.5, 4.2, 3.6, 4.4, 4.1, 4.8, 4.3, 5. , 3.8, 3.7,\n",
       "       5.1, 3. , 6. , 5.9, 5.6, 5.8, 6.6, 6.3, 6.1, 5.3, 5.5, 6.7, 6.9,\n",
       "       5.7, 6.4, 5.4, 5.2])"
      ]
     },
     "execution_count": 11,
     "metadata": {},
     "output_type": "execute_result"
    }
   ],
   "source": [
    "#Displaying the unique values from 'PetalLengthCm'\n",
    "data['PetalLengthCm'].unique()"
   ]
  },
  {
   "cell_type": "code",
   "execution_count": 12,
   "id": "personal-newport",
   "metadata": {},
   "outputs": [
    {
     "data": {
      "image/png": "[encoded data removed]",
      "text/plain": [
       "<Figure size 432x288 with 1 Axes>"
      ]
     },
     "metadata": {
      "needs_background": "light"
     },
     "output_type": "display_data"
    }
   ],
   "source": [
    "#Visualising the SepalLengthCm and PetalLengthCm using Scatter plot.\n",
    "plt.scatter(data['SepalLengthCm'],data['PetalLengthCm'], c='green')\n",
    "plt.xlabel('Sepal Length (Cm)')\n",
    "plt.ylabel('Petal Length (Cm)')\n",
    "plt.ylabel('Sepal Length Vs Petal Length')\n",
    "plt.show()"
   ]
  },
  {
   "cell_type": "code",
   "execution_count": null,
   "id": "great-discharge",
   "metadata": {},
   "outputs": [],
   "source": []
  },
  {
   "cell_type": "code",
   "execution_count": 13,
   "id": "focal-membrane",
   "metadata": {},
   "outputs": [
    {
     "data": {
      "text/plain": [
       "<AxesSubplot:>"
      ]
     },
     "execution_count": 13,
     "metadata": {},
     "output_type": "execute_result"
    },
    {
     "data": {
      "image/png": "[encoded data removed]",
      "text/plain": [
       "<Figure size 432x288 with 1 Axes>"
      ]
     },
     "metadata": {
      "needs_background": "light"
     },
     "output_type": "display_data"
    }
   ],
   "source": [
    "#Displaying the SepalLengthCm data using histogram\n",
    "data['SepalLengthCm'].hist(bins=25)"
   ]
  },
  {
   "cell_type": "code",
   "execution_count": 14,
   "id": "becoming-brooklyn",
   "metadata": {},
   "outputs": [
    {
     "data": {
      "text/plain": [
       "<AxesSubplot:>"
      ]
     },
     "execution_count": 14,
     "metadata": {},
     "output_type": "execute_result"
    },
    {
     "data": {
      "image/png": "[encoded data removed]",
      "text/plain": [
       "<Figure size 432x288 with 1 Axes>"
      ]
     },
     "metadata": {
      "needs_background": "light"
     },
     "output_type": "display_data"
    }
   ],
   "source": [
    "#Displaying the SepalWidthCm data using histogram\n",
    "data['SepalWidthCm'].hist(bins=25)"
   ]
  },
  {
   "cell_type": "code",
   "execution_count": 15,
   "id": "mounted-costume",
   "metadata": {},
   "outputs": [
    {
     "data": {
      "text/plain": [
       "<AxesSubplot:>"
      ]
     },
     "execution_count": 15,
     "metadata": {},
     "output_type": "execute_result"
    },
    {
     "data": {
      "image/png": "[encoded data removed]",
      "text/plain": [
       "<Figure size 432x288 with 1 Axes>"
      ]
     },
     "metadata": {
      "needs_background": "light"
     },
     "output_type": "display_data"
    }
   ],
   "source": [
    "#Displaying the PetalLengthCm data using histogram\n",
    "data['PetalLengthCm'].hist(bins=25)"
   ]
  },
  {
   "cell_type": "code",
   "execution_count": 16,
   "id": "recognized-england",
   "metadata": {},
   "outputs": [
    {
     "data": {
      "text/plain": [
       "<AxesSubplot:>"
      ]
     },
     "execution_count": 16,
     "metadata": {},
     "output_type": "execute_result"
    },
    {
     "data": {
      "image/png": "[encoded data removed]",
      "text/plain": [
       "<Figure size 432x288 with 1 Axes>"
      ]
     },
     "metadata": {
      "needs_background": "light"
     },
     "output_type": "display_data"
    }
   ],
   "source": [
    "#Displaying the PetalWidthCm data using histogram\n",
    "data['PetalWidthCm'].hist(bins=25)"
   ]
  },
  {
   "cell_type": "code",
   "execution_count": 17,
   "id": "appointed-pottery",
   "metadata": {},
   "outputs": [
    {
     "data": {
      "text/plain": [
       "array([[  1. ,   5.1,   3.5,   1.4],\n",
       "       [  2. ,   4.9,   3. ,   1.4],\n",
       "       [  3. ,   4.7,   3.2,   1.3],\n",
       "       [  4. ,   4.6,   3.1,   1.5],\n",
       "       [  5. ,   5. ,   3.6,   1.4],\n",
       "       [  6. ,   5.4,   3.9,   1.7],\n",
       "       [  7. ,   4.6,   3.4,   1.4],\n",
       "       [  8. ,   5. ,   3.4,   1.5],\n",
       "       [  9. ,   4.4,   2.9,   1.4],\n",
       "       [ 10. ,   4.9,   3.1,   1.5],\n",
       "       [ 11. ,   5.4,   3.7,   1.5],\n",
       "       [ 12. ,   4.8,   3.4,   1.6],\n",
       "       [ 13. ,   4.8,   3. ,   1.4],\n",
       "       [ 14. ,   4.3,   3. ,   1.1],\n",
       "       [ 15. ,   5.8,   4. ,   1.2],\n",
       "       [ 16. ,   5.7,   4.4,   1.5],\n",
       "       [ 17. ,   5.4,   3.9,   1.3],\n",
       "       [ 18. ,   5.1,   3.5,   1.4],\n",
       "       [ 19. ,   5.7,   3.8,   1.7],\n",
       "       [ 20. ,   5.1,   3.8,   1.5],\n",
       "       [ 21. ,   5.4,   3.4,   1.7],\n",
       "       [ 22. ,   5.1,   3.7,   1.5],\n",
       "       [ 23. ,   4.6,   3.6,   1. ],\n",
       "       [ 24. ,   5.1,   3.3,   1.7],\n",
       "       [ 25. ,   4.8,   3.4,   1.9],\n",
       "       [ 26. ,   5. ,   3. ,   1.6],\n",
       "       [ 27. ,   5. ,   3.4,   1.6],\n",
       "       [ 28. ,   5.2,   3.5,   1.5],\n",
       "       [ 29. ,   5.2,   3.4,   1.4],\n",
       "       [ 30. ,   4.7,   3.2,   1.6],\n",
       "       [ 31. ,   4.8,   3.1,   1.6],\n",
       "       [ 32. ,   5.4,   3.4,   1.5],\n",
       "       [ 33. ,   5.2,   4.1,   1.5],\n",
       "       [ 34. ,   5.5,   4.2,   1.4],\n",
       "       [ 35. ,   4.9,   3.1,   1.5],\n",
       "       [ 36. ,   5. ,   3.2,   1.2],\n",
       "       [ 37. ,   5.5,   3.5,   1.3],\n",
       "       [ 38. ,   4.9,   3.1,   1.5],\n",
       "       [ 39. ,   4.4,   3. ,   1.3],\n",
       "       [ 40. ,   5.1,   3.4,   1.5],\n",
       "       [ 41. ,   5. ,   3.5,   1.3],\n",
       "       [ 42. ,   4.5,   2.3,   1.3],\n",
       "       [ 43. ,   4.4,   3.2,   1.3],\n",
       "       [ 44. ,   5. ,   3.5,   1.6],\n",
       "       [ 45. ,   5.1,   3.8,   1.9],\n",
       "       [ 46. ,   4.8,   3. ,   1.4],\n",
       "       [ 47. ,   5.1,   3.8,   1.6],\n",
       "       [ 48. ,   4.6,   3.2,   1.4],\n",
       "       [ 49. ,   5.3,   3.7,   1.5],\n",
       "       [ 50. ,   5. ,   3.3,   1.4],\n",
       "       [ 51. ,   7. ,   3.2,   4.7],\n",
       "       [ 52. ,   6.4,   3.2,   4.5],\n",
       "       [ 53. ,   6.9,   3.1,   4.9],\n",
       "       [ 54. ,   5.5,   2.3,   4. ],\n",
       "       [ 55. ,   6.5,   2.8,   4.6],\n",
       "       [ 56. ,   5.7,   2.8,   4.5],\n",
       "       [ 57. ,   6.3,   3.3,   4.7],\n",
       "       [ 58. ,   4.9,   2.4,   3.3],\n",
       "       [ 59. ,   6.6,   2.9,   4.6],\n",
       "       [ 60. ,   5.2,   2.7,   3.9],\n",
       "       [ 61. ,   5. ,   2. ,   3.5],\n",
       "       [ 62. ,   5.9,   3. ,   4.2],\n",
       "       [ 63. ,   6. ,   2.2,   4. ],\n",
       "       [ 64. ,   6.1,   2.9,   4.7],\n",
       "       [ 65. ,   5.6,   2.9,   3.6],\n",
       "       [ 66. ,   6.7,   3.1,   4.4],\n",
       "       [ 67. ,   5.6,   3. ,   4.5],\n",
       "       [ 68. ,   5.8,   2.7,   4.1],\n",
       "       [ 69. ,   6.2,   2.2,   4.5],\n",
       "       [ 70. ,   5.6,   2.5,   3.9],\n",
       "       [ 71. ,   5.9,   3.2,   4.8],\n",
       "       [ 72. ,   6.1,   2.8,   4. ],\n",
       "       [ 73. ,   6.3,   2.5,   4.9],\n",
       "       [ 74. ,   6.1,   2.8,   4.7],\n",
       "       [ 75. ,   6.4,   2.9,   4.3],\n",
       "       [ 76. ,   6.6,   3. ,   4.4],\n",
       "       [ 77. ,   6.8,   2.8,   4.8],\n",
       "       [ 78. ,   6.7,   3. ,   5. ],\n",
       "       [ 79. ,   6. ,   2.9,   4.5],\n",
       "       [ 80. ,   5.7,   2.6,   3.5],\n",
       "       [ 81. ,   5.5,   2.4,   3.8],\n",
       "       [ 82. ,   5.5,   2.4,   3.7],\n",
       "       [ 83. ,   5.8,   2.7,   3.9],\n",
       "       [ 84. ,   6. ,   2.7,   5.1],\n",
       "       [ 85. ,   5.4,   3. ,   4.5],\n",
       "       [ 86. ,   6. ,   3.4,   4.5],\n",
       "       [ 87. ,   6.7,   3.1,   4.7],\n",
       "       [ 88. ,   6.3,   2.3,   4.4],\n",
       "       [ 89. ,   5.6,   3. ,   4.1],\n",
       "       [ 90. ,   5.5,   2.5,   4. ],\n",
       "       [ 91. ,   5.5,   2.6,   4.4],\n",
       "       [ 92. ,   6.1,   3. ,   4.6],\n",
       "       [ 93. ,   5.8,   2.6,   4. ],\n",
       "       [ 94. ,   5. ,   2.3,   3.3],\n",
       "       [ 95. ,   5.6,   2.7,   4.2],\n",
       "       [ 96. ,   5.7,   3. ,   4.2],\n",
       "       [ 97. ,   5.7,   2.9,   4.2],\n",
       "       [ 98. ,   6.2,   2.9,   4.3],\n",
       "       [ 99. ,   5.1,   2.5,   3. ],\n",
       "       [100. ,   5.7,   2.8,   4.1],\n",
       "       [101. ,   6.3,   3.3,   6. ],\n",
       "       [102. ,   5.8,   2.7,   5.1],\n",
       "       [103. ,   7.1,   3. ,   5.9],\n",
       "       [104. ,   6.3,   2.9,   5.6],\n",
       "       [105. ,   6.5,   3. ,   5.8],\n",
       "       [106. ,   7.6,   3. ,   6.6],\n",
       "       [107. ,   4.9,   2.5,   4.5],\n",
       "       [108. ,   7.3,   2.9,   6.3],\n",
       "       [109. ,   6.7,   2.5,   5.8],\n",
       "       [110. ,   7.2,   3.6,   6.1],\n",
       "       [111. ,   6.5,   3.2,   5.1],\n",
       "       [112. ,   6.4,   2.7,   5.3],\n",
       "       [113. ,   6.8,   3. ,   5.5],\n",
       "       [114. ,   5.7,   2.5,   5. ],\n",
       "       [115. ,   5.8,   2.8,   5.1],\n",
       "       [116. ,   6.4,   3.2,   5.3],\n",
       "       [117. ,   6.5,   3. ,   5.5],\n",
       "       [118. ,   7.7,   3.8,   6.7],\n",
       "       [119. ,   7.7,   2.6,   6.9],\n",
       "       [120. ,   6. ,   2.2,   5. ],\n",
       "       [121. ,   6.9,   3.2,   5.7],\n",
       "       [122. ,   5.6,   2.8,   4.9],\n",
       "       [123. ,   7.7,   2.8,   6.7],\n",
       "       [124. ,   6.3,   2.7,   4.9],\n",
       "       [125. ,   6.7,   3.3,   5.7],\n",
       "       [126. ,   7.2,   3.2,   6. ],\n",
       "       [127. ,   6.2,   2.8,   4.8],\n",
       "       [128. ,   6.1,   3. ,   4.9],\n",
       "       [129. ,   6.4,   2.8,   5.6],\n",
       "       [130. ,   7.2,   3. ,   5.8],\n",
       "       [131. ,   7.4,   2.8,   6.1],\n",
       "       [132. ,   7.9,   3.8,   6.4],\n",
       "       [133. ,   6.4,   2.8,   5.6],\n",
       "       [134. ,   6.3,   2.8,   5.1],\n",
       "       [135. ,   6.1,   2.6,   5.6],\n",
       "       [136. ,   7.7,   3. ,   6.1],\n",
       "       [137. ,   6.3,   3.4,   5.6],\n",
       "       [138. ,   6.4,   3.1,   5.5],\n",
       "       [139. ,   6. ,   3. ,   4.8],\n",
       "       [140. ,   6.9,   3.1,   5.4],\n",
       "       [141. ,   6.7,   3.1,   5.6],\n",
       "       [142. ,   6.9,   3.1,   5.1],\n",
       "       [143. ,   5.8,   2.7,   5.1],\n",
       "       [144. ,   6.8,   3.2,   5.9],\n",
       "       [145. ,   6.7,   3.3,   5.7],\n",
       "       [146. ,   6.7,   3. ,   5.2],\n",
       "       [147. ,   6.3,   2.5,   5. ],\n",
       "       [148. ,   6.5,   3. ,   5.2],\n",
       "       [149. ,   6.2,   3.4,   5.4],\n",
       "       [150. ,   5.9,   3. ,   5.1]])"
      ]
     },
     "execution_count": 17,
     "metadata": {},
     "output_type": "execute_result"
    }
   ],
   "source": [
    "#Creating the x Features \n",
    "x = data.iloc[:, [0, 1, 2, 3]].values\n",
    "x"
   ]
  },
  {
   "cell_type": "code",
   "execution_count": 18,
   "id": "expected-uzbekistan",
   "metadata": {},
   "outputs": [
    {
     "data": {
      "text/html": [
       "<div>\n",
       "<style scoped>\n",
       "    .dataframe tbody tr th:only-of-type {\n",
       "        vertical-align: middle;\n",
       "    }\n",
       "\n",
       "    .dataframe tbody tr th {\n",
       "        vertical-align: top;\n",
       "    }\n",
       "\n",
       "    .dataframe thead th {\n",
       "        text-align: right;\n",
       "    }\n",
       "</style>\n",
       "<table border=\"1\" class=\"dataframe\">\n",
       "  <thead>\n",
       "    <tr style=\"text-align: right;\">\n",
       "      <th></th>\n",
       "      <th>Id</th>\n",
       "      <th>SepalLengthCm</th>\n",
       "      <th>SepalWidthCm</th>\n",
       "      <th>PetalLengthCm</th>\n",
       "      <th>PetalWidthCm</th>\n",
       "      <th>Species</th>\n",
       "    </tr>\n",
       "  </thead>\n",
       "  <tbody>\n",
       "    <tr>\n",
       "      <th>0</th>\n",
       "      <td>1</td>\n",
       "      <td>5.1</td>\n",
       "      <td>3.5</td>\n",
       "      <td>1.4</td>\n",
       "      <td>0.2</td>\n",
       "      <td>Iris-setosa</td>\n",
       "    </tr>\n",
       "    <tr>\n",
       "      <th>1</th>\n",
       "      <td>2</td>\n",
       "      <td>4.9</td>\n",
       "      <td>3.0</td>\n",
       "      <td>1.4</td>\n",
       "      <td>0.2</td>\n",
       "      <td>Iris-setosa</td>\n",
       "    </tr>\n",
       "    <tr>\n",
       "      <th>2</th>\n",
       "      <td>3</td>\n",
       "      <td>4.7</td>\n",
       "      <td>3.2</td>\n",
       "      <td>1.3</td>\n",
       "      <td>0.2</td>\n",
       "      <td>Iris-setosa</td>\n",
       "    </tr>\n",
       "    <tr>\n",
       "      <th>3</th>\n",
       "      <td>4</td>\n",
       "      <td>4.6</td>\n",
       "      <td>3.1</td>\n",
       "      <td>1.5</td>\n",
       "      <td>0.2</td>\n",
       "      <td>Iris-setosa</td>\n",
       "    </tr>\n",
       "    <tr>\n",
       "      <th>4</th>\n",
       "      <td>5</td>\n",
       "      <td>5.0</td>\n",
       "      <td>3.6</td>\n",
       "      <td>1.4</td>\n",
       "      <td>0.2</td>\n",
       "      <td>Iris-setosa</td>\n",
       "    </tr>\n",
       "  </tbody>\n",
       "</table>\n",
       "</div>"
      ],
      "text/plain": [
       "   Id  SepalLengthCm  SepalWidthCm  PetalLengthCm  PetalWidthCm      Species\n",
       "0   1            5.1           3.5            1.4           0.2  Iris-setosa\n",
       "1   2            4.9           3.0            1.4           0.2  Iris-setosa\n",
       "2   3            4.7           3.2            1.3           0.2  Iris-setosa\n",
       "3   4            4.6           3.1            1.5           0.2  Iris-setosa\n",
       "4   5            5.0           3.6            1.4           0.2  Iris-setosa"
      ]
     },
     "execution_count": 18,
     "metadata": {},
     "output_type": "execute_result"
    }
   ],
   "source": [
    "data.head()"
   ]
  },
  {
   "cell_type": "code",
   "execution_count": 19,
   "id": "foreign-blowing",
   "metadata": {},
   "outputs": [
    {
     "data": {
      "image/png": "[encoded data removed]",
      "text/plain": [
       "<Figure size 432x288 with 1 Axes>"
      ]
     },
     "metadata": {
      "needs_background": "light"
     },
     "output_type": "display_data"
    }
   ],
   "source": [
    "# Displaying and managing the Elbows for creating Clusters.\n",
    "wcss=[]\n",
    "for i in range(1,11):\n",
    "    kmeans = KMeans(n_clusters=i, random_state=0)\n",
    "    kmeans.fit(x)\n",
    "    wcss.append(kmeans.inertia_)\n",
    "plt.plot(range(1,11),wcss,c='green')\n",
    "plt.xlabel('Number of Clusters')\n",
    "plt.ylabel('WCSS')\n",
    "plt.title('Optimum number of clusters by the Elbow Method')\n",
    "plt.show()"
   ]
  },
  {
   "cell_type": "code",
   "execution_count": 20,
   "id": "assisted-passenger",
   "metadata": {},
   "outputs": [],
   "source": [
    "# Creating clusters and predicting\n",
    "kmeans = KMeans(n_clusters=3,random_state=42)\n",
    "y_pred = kmeans.fit_predict(x)"
   ]
  },
  {
   "cell_type": "code",
   "execution_count": 21,
   "id": "behavioral-intersection",
   "metadata": {},
   "outputs": [
    {
     "data": {
      "text/plain": [
       "array([1, 1, 1, 1, 1, 1, 1, 1, 1, 1, 1, 1, 1, 1, 1, 1, 1, 1, 1, 1, 1, 1,\n",
       "       1, 1, 1, 1, 1, 1, 1, 1, 1, 1, 1, 1, 1, 1, 1, 1, 1, 1, 1, 1, 1, 1,\n",
       "       1, 1, 1, 1, 1, 1, 2, 2, 2, 2, 2, 2, 2, 2, 2, 2, 2, 2, 2, 2, 2, 2,\n",
       "       2, 2, 2, 2, 2, 2, 2, 2, 2, 2, 2, 2, 2, 2, 2, 2, 2, 2, 2, 2, 2, 2,\n",
       "       2, 2, 2, 2, 2, 2, 2, 2, 2, 2, 2, 2, 0, 0, 0, 0, 0, 0, 0, 0, 0, 0,\n",
       "       0, 0, 0, 0, 0, 0, 0, 0, 0, 0, 0, 0, 0, 0, 0, 0, 0, 0, 0, 0, 0, 0,\n",
       "       0, 0, 0, 0, 0, 0, 0, 0, 0, 0, 0, 0, 0, 0, 0, 0, 0, 0])"
      ]
     },
     "execution_count": 21,
     "metadata": {},
     "output_type": "execute_result"
    }
   ],
   "source": [
    "y_pred"
   ]
  },
  {
   "cell_type": "code",
   "execution_count": 22,
   "id": "modular-blanket",
   "metadata": {},
   "outputs": [
    {
     "data": {
      "image/png": "[encoded data removed]",
      "text/plain": [
       "<Figure size 432x288 with 1 Axes>"
      ]
     },
     "metadata": {
      "needs_background": "light"
     },
     "output_type": "display_data"
    }
   ],
   "source": [
    "# Visualising the Final Clusters from the dataset.\n",
    "plt.scatter(x[y_pred==0,0],x[y_pred==0,1],s=80,c='Red',label='Setosa')\n",
    "plt.scatter(x[y_pred==1,0],x[y_pred==1,1],s=80,c='Green',label='Versicolor')\n",
    "plt.scatter(x[y_pred==2,0],x[y_pred==2,1],s=80,c='Blue',label='Verginica')\n",
    "\n",
    "plt.scatter(kmeans.cluster_centers_[:,0],kmeans.cluster_centers_[:,1],s=102,c='Yellow',label='Centroids')\n",
    "plt.xlabel('abs')\n",
    "plt.ylabel('idk')\n",
    "plt.legend()\n",
    "plt.show()"
   ]
  },
  {
   "cell_type": "code",
   "execution_count": null,
   "id": "vulnerable-power",
   "metadata": {},
   "outputs": [],
   "source": []
  }
 ],
 "metadata": {
  "kernelspec": {
   "display_name": "Python 3.7.7 64-bit",
   "language": "python",
   "name": "python37764bitd722179cc89842a6b3a2173ea3f96b4b"
  },
  "language_info": {
   "codemirror_mode": {
    "name": "ipython",
    "version": 3
   },
   "file_extension": ".py",
   "mimetype": "text/x-python",
   "name": "python",
   "nbconvert_exporter": "python",
   "pygments_lexer": "ipython3",
   "version": "3.7.7"
  }
 },
 "nbformat": 4,
 "nbformat_minor": 5
}
